{
 "cells": [
  {
   "cell_type": "markdown",
   "id": "3295a7a1",
   "metadata": {},
   "source": [
    "# 1. Data Preprocessing"
   ]
  },
  {
   "cell_type": "code",
   "execution_count": null,
   "id": "4151e0e8",
   "metadata": {},
   "outputs": [],
   "source": [
    "# load neccessarly libraries\n",
    "import librosa.display\n",
    "import matplotlib.pyplot as plt\n",
    "import os, sys\n",
    "\n",
    "# get working diroctory\n",
    "sys.path.append(os.path.abspath('..'))\n",
    "\n",
    "# get modelus\n",
    "from scripts.cough_sound_processing import *\n",
    "from scripts.feature_extraction import *"
   ]
  },
  {
   "cell_type": "markdown",
   "id": "f555f7e0",
   "metadata": {},
   "source": [
    "## 1.1 Cough sound Processing"
   ]
  },
  {
   "cell_type": "code",
   "execution_count": 2,
   "id": "2de5173f",
   "metadata": {},
   "outputs": [
    {
     "name": "stdout",
     "output_type": "stream",
     "text": [
      "\n",
      "Processing file: tb_neg (1).wav\n",
      "Loaded ../data/tb_negative\\tb_neg (1).wav with original sample rate: 44100 Hz\n",
      "Resampled to 16000 Hz\n",
      "Applied bandpass filtering\n",
      "Normalized audio amplitude\n",
      "Saved processed audio to: ../data/processed_data/tb_negative\\tb_neg (1).wav\n"
     ]
    }
   ],
   "source": [
    "# TB Negative Diroctory\n",
    "neg_input_directory = '../data/tb_negative'\n",
    "neg_output_directory = '../data/processed_data/tb_negative'\n",
    "    \n",
    "# Run the preprocessing on the directory of audio files.\n",
    "preprocess_directory(neg_input_directory, neg_output_directory, target_sr=16000, lowcut=100, highcut=8000, trim_db=20)\n"
   ]
  },
  {
   "cell_type": "code",
   "execution_count": 3,
   "id": "9fcc7810",
   "metadata": {},
   "outputs": [
    {
     "name": "stdout",
     "output_type": "stream",
     "text": [
      "\n",
      "Processing file: tb_pos1 (1).wav\n",
      "Loaded ../data/tb_positive\\tb_pos1 (1).wav with original sample rate: 44100 Hz\n",
      "Resampled to 16000 Hz\n",
      "Applied bandpass filtering\n",
      "Normalized audio amplitude\n",
      "Saved processed audio to: ../data/processed_data/tb_positive\\tb_pos1 (1).wav\n"
     ]
    }
   ],
   "source": [
    "# TB Positive Diroctory\n",
    "pos_input_directory = '../data/tb_positive'\n",
    "pos_output_directory = '../data/processed_data/tb_positive'\n",
    "    \n",
    "# Run the preprocessing on the directory of audio files.\n",
    "preprocess_directory(pos_input_directory, pos_output_directory, target_sr=16000, lowcut=100, highcut=8000, trim_db=20)"
   ]
  },
  {
   "cell_type": "markdown",
   "id": "285fdf49",
   "metadata": {},
   "source": [
    "## Feature Extraction "
   ]
  },
  {
   "cell_type": "markdown",
   "id": "406739e0",
   "metadata": {},
   "source": [
    "### For TB Negative"
   ]
  },
  {
   "cell_type": "code",
   "execution_count": 4,
   "id": "5abacaa3",
   "metadata": {},
   "outputs": [
    {
     "name": "stdout",
     "output_type": "stream",
     "text": [
      "Loaded ../data/processed_data/tb_negative/tb_neg (1).wav at 16000 Hz\n",
      "Extracted Features:\n",
      "rms_mean: 0.1107\n",
      "rms_std: 0.0601\n",
      "rms_skew: -0.3071\n",
      "rms_kurtosis: -1.2952\n",
      "zcr_mean: 0.2043\n",
      "zcr_std: 0.1125\n",
      "zcr_skew: 0.3149\n",
      "zcr_kurtosis: -1.3255\n",
      "spectral_centroid_mean: 3063.5632\n",
      "spectral_centroid_std: 522.6942\n",
      "spectral_centroid_skew: -0.5771\n",
      "spectral_centroid_kurtosis: 0.4560\n",
      "spectral_bandwidth_mean: 2514.3944\n",
      "spectral_bandwidth_std: 136.1822\n",
      "spectral_bandwidth_skew: -1.6692\n",
      "spectral_bandwidth_kurtosis: 2.5705\n",
      "spectral_rolloff_mean: 6553.4856\n",
      "spectral_rolloff_std: 381.6375\n",
      "spectral_rolloff_skew: -1.6914\n",
      "spectral_rolloff_kurtosis: 2.6734\n",
      "spectral_entropy_mean: 0.6512\n",
      "spectral_entropy_std: 0.0905\n",
      "spectral_entropy_skew: -0.3393\n",
      "spectral_entropy_kurtosis: -1.1576\n",
      "mfcc_1_mean: -130.5965\n",
      "mfcc_1_std: 154.1059\n",
      "mfcc_1_skew: -1.0451\n",
      "mfcc_1_kurtosis: -0.1844\n",
      "mfcc_2_mean: 42.3606\n",
      "mfcc_2_std: 20.5914\n",
      "mfcc_2_skew: 0.8980\n",
      "mfcc_2_kurtosis: 0.5989\n",
      "mfcc_3_mean: 21.5579\n",
      "mfcc_3_std: 16.2126\n",
      "mfcc_3_skew: 0.0810\n",
      "mfcc_3_kurtosis: -1.6023\n",
      "mfcc_4_mean: -32.3360\n",
      "mfcc_4_std: 21.8945\n",
      "mfcc_4_skew: -0.1459\n",
      "mfcc_4_kurtosis: -0.9657\n",
      "mfcc_5_mean: 0.3400\n",
      "mfcc_5_std: 13.0739\n",
      "mfcc_5_skew: 0.4071\n",
      "mfcc_5_kurtosis: -0.9104\n",
      "mfcc_6_mean: 0.6663\n",
      "mfcc_6_std: 12.4447\n",
      "mfcc_6_skew: 0.0676\n",
      "mfcc_6_kurtosis: -1.2136\n",
      "mfcc_7_mean: -34.1661\n",
      "mfcc_7_std: 9.3927\n",
      "mfcc_7_skew: -0.0696\n",
      "mfcc_7_kurtosis: -1.0380\n",
      "mfcc_8_mean: -18.3335\n",
      "mfcc_8_std: 16.1580\n",
      "mfcc_8_skew: 0.4678\n",
      "mfcc_8_kurtosis: -0.8963\n",
      "mfcc_9_mean: -13.4990\n",
      "mfcc_9_std: 8.5031\n",
      "mfcc_9_skew: -0.3516\n",
      "mfcc_9_kurtosis: -1.1522\n",
      "mfcc_10_mean: -1.0097\n",
      "mfcc_10_std: 10.7295\n",
      "mfcc_10_skew: 0.7069\n",
      "mfcc_10_kurtosis: -0.1729\n",
      "mfcc_11_mean: -17.3089\n",
      "mfcc_11_std: 7.5516\n",
      "mfcc_11_skew: 0.7388\n",
      "mfcc_11_kurtosis: -0.5454\n",
      "mfcc_12_mean: -12.1883\n",
      "mfcc_12_std: 5.9897\n",
      "mfcc_12_skew: -0.0985\n",
      "mfcc_12_kurtosis: -0.4743\n",
      "mfcc_13_mean: -12.5243\n",
      "mfcc_13_std: 7.4861\n",
      "mfcc_13_skew: 0.3840\n",
      "mfcc_13_kurtosis: -1.3473\n"
     ]
    }
   ],
   "source": [
    "# Path to a preprocessed audio file\n",
    "neg_audio_file_path = '../data/processed_data/tb_negative/tb_neg (1).wav'\n",
    "    \n",
    "# Load the audio\n",
    "neg_audio, neg_sr = librosa.load(neg_audio_file_path, sr=None)\n",
    "print(f\"Loaded {neg_audio_file_path} at {neg_sr} Hz\")\n",
    "\n",
    "# Extract features\n",
    "neg_features = extract_features_from_audio(neg_audio, neg_sr)\n",
    "\n",
    "# Print out the extracted features\n",
    "print(\"Extracted Features:\")\n",
    "for key, value in neg_features.items():\n",
    "    print(f\"{key}: {value:.4f}\")"
   ]
  },
  {
   "cell_type": "code",
   "execution_count": 5,
   "id": "bfc39bc8",
   "metadata": {},
   "outputs": [
    {
     "data": {
      "image/png": "[encoded data removed]",
      "text/plain": [
       "<Figure size 1000x400 with 2 Axes>"
      ]
     },
     "metadata": {},
     "output_type": "display_data"
    }
   ],
   "source": [
    "# Visualize the MFCCs for inspection\n",
    "mfcc = librosa.feature.mfcc(y=neg_audio, sr=neg_sr, n_mfcc=13, n_fft=2048, hop_length=512)\n",
    "plt.figure(figsize=(10, 4))\n",
    "librosa.display.specshow(mfcc, sr=neg_sr, hop_length=512, x_axis='time')\n",
    "plt.title('TB- MFCC')\n",
    "plt.colorbar()\n",
    "plt.tight_layout()\n",
    "plt.show()"
   ]
  },
  {
   "cell_type": "code",
   "execution_count": 6,
   "id": "74a012f3",
   "metadata": {},
   "outputs": [
    {
     "name": "stdout",
     "output_type": "stream",
     "text": [
      "Loaded ../data/processed_data/tb_positive/tb_pos1 (1).wav at 16000 Hz\n",
      "Extracted Features:\n",
      "rms_mean: 0.1181\n",
      "rms_std: 0.0573\n",
      "rms_skew: -0.6778\n",
      "rms_kurtosis: -0.9875\n",
      "zcr_mean: 0.1870\n",
      "zcr_std: 0.0619\n",
      "zcr_skew: -0.6703\n",
      "zcr_kurtosis: -0.1273\n",
      "spectral_centroid_mean: 3141.7515\n",
      "spectral_centroid_std: 721.7883\n",
      "spectral_centroid_skew: -0.7429\n",
      "spectral_centroid_kurtosis: -0.4536\n",
      "spectral_bandwidth_mean: 2485.9335\n",
      "spectral_bandwidth_std: 287.7091\n",
      "spectral_bandwidth_skew: -1.1497\n",
      "spectral_bandwidth_kurtosis: -0.1758\n",
      "spectral_rolloff_mean: 6554.6875\n",
      "spectral_rolloff_std: 976.3789\n",
      "spectral_rolloff_skew: -1.5306\n",
      "spectral_rolloff_kurtosis: 0.5670\n",
      "spectral_entropy_mean: 0.5908\n",
      "spectral_entropy_std: 0.1468\n",
      "spectral_entropy_skew: -0.3500\n",
      "spectral_entropy_kurtosis: -1.5340\n",
      "mfcc_1_mean: -109.5871\n",
      "mfcc_1_std: 97.1618\n",
      "mfcc_1_skew: -0.6307\n",
      "mfcc_1_kurtosis: -0.8891\n",
      "mfcc_2_mean: 42.1008\n",
      "mfcc_2_std: 19.0768\n",
      "mfcc_2_skew: 0.2782\n",
      "mfcc_2_kurtosis: -1.1285\n",
      "mfcc_3_mean: 23.2940\n",
      "mfcc_3_std: 19.2363\n",
      "mfcc_3_skew: -0.2293\n",
      "mfcc_3_kurtosis: -1.3498\n",
      "mfcc_4_mean: -15.6332\n",
      "mfcc_4_std: 26.4737\n",
      "mfcc_4_skew: 0.7093\n",
      "mfcc_4_kurtosis: -0.8262\n",
      "mfcc_5_mean: 0.9622\n",
      "mfcc_5_std: 10.9110\n",
      "mfcc_5_skew: 0.5360\n",
      "mfcc_5_kurtosis: -0.5037\n",
      "mfcc_6_mean: -17.2718\n",
      "mfcc_6_std: 12.4712\n",
      "mfcc_6_skew: -0.5935\n",
      "mfcc_6_kurtosis: -0.9297\n",
      "mfcc_7_mean: -26.5963\n",
      "mfcc_7_std: 20.1566\n",
      "mfcc_7_skew: 0.7504\n",
      "mfcc_7_kurtosis: -0.4887\n",
      "mfcc_8_mean: -14.8074\n",
      "mfcc_8_std: 10.8250\n",
      "mfcc_8_skew: 0.0552\n",
      "mfcc_8_kurtosis: -1.0901\n",
      "mfcc_9_mean: -24.4118\n",
      "mfcc_9_std: 12.0802\n",
      "mfcc_9_skew: 0.3798\n",
      "mfcc_9_kurtosis: -1.1267\n",
      "mfcc_10_mean: -6.5471\n",
      "mfcc_10_std: 16.5755\n",
      "mfcc_10_skew: 0.3519\n",
      "mfcc_10_kurtosis: -1.0347\n",
      "mfcc_11_mean: -7.0601\n",
      "mfcc_11_std: 4.8757\n",
      "mfcc_11_skew: 0.0884\n",
      "mfcc_11_kurtosis: -1.0184\n",
      "mfcc_12_mean: -8.1078\n",
      "mfcc_12_std: 12.1310\n",
      "mfcc_12_skew: 0.1113\n",
      "mfcc_12_kurtosis: 1.2149\n",
      "mfcc_13_mean: -12.2251\n",
      "mfcc_13_std: 7.5801\n",
      "mfcc_13_skew: 0.5495\n",
      "mfcc_13_kurtosis: 0.2342\n"
     ]
    }
   ],
   "source": [
    "# Path to a preprocessed audio file\n",
    "pos_audio_file_path = '../data/processed_data/tb_positive/tb_pos1 (1).wav'\n",
    "    \n",
    "# Load the audio\n",
    "pos_audio, pos_sr = librosa.load(pos_audio_file_path, sr=None)\n",
    "print(f\"Loaded {pos_audio_file_path} at {pos_sr} Hz\")\n",
    "\n",
    "# Extract features\n",
    "pos_features = extract_features_from_audio(pos_audio, pos_sr)\n",
    "\n",
    "# Print out the extracted features\n",
    "print(\"Extracted Features:\")\n",
    "for key, value in pos_features.items():\n",
    "    print(f\"{key}: {value:.4f}\")"
   ]
  },
  {
   "cell_type": "code",
   "execution_count": 7,
   "id": "f58b494c",
   "metadata": {},
   "outputs": [
    {
     "data": {
      "image/png": "[encoded data removed]",
      "text/plain": [
       "<Figure size 1000x400 with 2 Axes>"
      ]
     },
     "metadata": {},
     "output_type": "display_data"
    }
   ],
   "source": [
    "# Visualize the MFCCs for inspection\n",
    "mfcc = librosa.feature.mfcc(y=pos_audio, sr=pos_sr, n_mfcc=13, n_fft=2048, hop_length=512)\n",
    "plt.figure(figsize=(10, 4))\n",
    "librosa.display.specshow(mfcc, sr=pos_sr, hop_length=512, x_axis='time')\n",
    "plt.title('TB+ MFCC')\n",
    "plt.colorbar()\n",
    "plt.tight_layout()\n",
    "plt.show()"
   ]
  }
 ],
 "metadata": {
  "kernelspec": {
   "display_name": ".venv",
   "language": "python",
   "name": "python3"
  },
  "language_info": {
   "codemirror_mode": {
    "name": "ipython",
    "version": 3
   },
   "file_extension": ".py",
   "mimetype": "text/x-python",
   "name": "python",
   "nbconvert_exporter": "python",
   "pygments_lexer": "ipython3",
   "version": "3.11.9"
  }
 },
 "nbformat": 4,
 "nbformat_minor": 5
}
